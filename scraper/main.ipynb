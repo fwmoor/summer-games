{
 "cells": [
  {
   "cell_type": "code",
   "execution_count": null,
   "metadata": {},
   "outputs": [],
   "source": [
    "import requests"
   ]
  },
  {
   "cell_type": "code",
   "execution_count": null,
   "metadata": {},
   "outputs": [],
   "source": [
    "url = \"https://og2024-api.sports.gracenote.com/svc/games_v2.svc/json/GetScheduleDateByTime?competitionSetId=1&date=20240725&languageCode=2\"\n",
    "response = requests.get(url)\n",
    "\n",
    "data = response.json()"
   ]
  },
  {
   "cell_type": "code",
   "execution_count": null,
   "metadata": {},
   "outputs": [],
   "source": [
    "for status in data['StatusList']:\n",
    "    if status['EventPhaseMatchList']:\n",
    "        print(f\"{status['Status']['c_Name']}:\")\n",
    "        for event in status['EventPhaseMatchList']:\n",
    "            start_time = event['DateTimes']['Start']['c_Local'].split('T')[1][:5]\n",
    "            sport_name = event['Sport']['c_Name']\n",
    "            event_name = event['GenderEvent']['c_Name']\n",
    "            phase_name = event['c_Phase']\n",
    "\n",
    "            if event['Match'] and event['Match']['Competitor1']['c_Name']:\n",
    "                if status['Status']['c_Name'] == 'Upcoming':\n",
    "                    match_info = f\"{event['Match']['Competitor1']['c_Name']} vs {event['Match']['Competitor2']['c_Name']}\"\n",
    "                else:\n",
    "                    match_info = (\n",
    "                        f\"{event['Match']['Competitor1']['c_Name']} {event['Match']['Competitor1']['n_Result']} \"\n",
    "                        f\"vs {event['Match']['Competitor2']['c_Name']} {event['Match']['Competitor2']['n_Result']}\"\n",
    "                    )\n",
    "            else:\n",
    "                match_info = ''\n",
    "\n",
    "            print(start_time, sport_name, event_name, phase_name, match_info)\n",
    "        print()"
   ]
  }
 ],
 "metadata": {
  "kernelspec": {
   "display_name": "venv",
   "language": "python",
   "name": "python3"
  },
  "language_info": {
   "codemirror_mode": {
    "name": "ipython",
    "version": 3
   },
   "file_extension": ".py",
   "mimetype": "text/x-python",
   "name": "python",
   "nbconvert_exporter": "python",
   "pygments_lexer": "ipython3",
   "version": "3.11.6"
  }
 },
 "nbformat": 4,
 "nbformat_minor": 2
}
